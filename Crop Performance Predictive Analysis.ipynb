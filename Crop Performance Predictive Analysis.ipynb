{
 "cells": [
  {
   "cell_type": "code",
   "execution_count": 70,
   "id": "671005a5",
   "metadata": {},
   "outputs": [],
   "source": [
    "import pandas as pd\n",
    "import numpy as np\n",
    "import seaborn as sns"
   ]
  },
  {
   "cell_type": "code",
   "execution_count": 71,
   "id": "6c43fffb",
   "metadata": {},
   "outputs": [],
   "source": [
    "#Exploration"
   ]
  },
  {
   "cell_type": "code",
   "execution_count": 72,
   "id": "9dea9296",
   "metadata": {},
   "outputs": [],
   "source": [
    "data = pd.read_csv(\"crop_production.csv\")"
   ]
  },
  {
   "cell_type": "code",
   "execution_count": 73,
   "id": "6da3c589",
   "metadata": {},
   "outputs": [
    {
     "data": {
      "text/plain": [
       "(20566, 9)"
      ]
     },
     "execution_count": 73,
     "metadata": {},
     "output_type": "execute_result"
    }
   ],
   "source": [
    "data.shape"
   ]
  },
  {
   "cell_type": "code",
   "execution_count": 74,
   "id": "95776735",
   "metadata": {},
   "outputs": [
    {
     "data": {
      "text/html": [
       "<div>\n",
       "<style scoped>\n",
       "    .dataframe tbody tr th:only-of-type {\n",
       "        vertical-align: middle;\n",
       "    }\n",
       "\n",
       "    .dataframe tbody tr th {\n",
       "        vertical-align: top;\n",
       "    }\n",
       "\n",
       "    .dataframe thead th {\n",
       "        text-align: right;\n",
       "    }\n",
       "</style>\n",
       "<table border=\"1\" class=\"dataframe\">\n",
       "  <thead>\n",
       "    <tr style=\"text-align: right;\">\n",
       "      <th></th>\n",
       "      <th>index</th>\n",
       "      <th>LOCATION</th>\n",
       "      <th>INDICATOR</th>\n",
       "      <th>SUBJECT</th>\n",
       "      <th>MEASURE</th>\n",
       "      <th>FREQUENCY</th>\n",
       "      <th>TIME</th>\n",
       "      <th>Value</th>\n",
       "      <th>Flag Codes</th>\n",
       "    </tr>\n",
       "  </thead>\n",
       "  <tbody>\n",
       "    <tr>\n",
       "      <th>20561</th>\n",
       "      <td>20561</td>\n",
       "      <td>OECD</td>\n",
       "      <td>CROPYIELD</td>\n",
       "      <td>SOYBEAN</td>\n",
       "      <td>THND_HA</td>\n",
       "      <td>A</td>\n",
       "      <td>2021</td>\n",
       "      <td>37010.20883</td>\n",
       "      <td>NaN</td>\n",
       "    </tr>\n",
       "    <tr>\n",
       "      <th>20562</th>\n",
       "      <td>20562</td>\n",
       "      <td>OECD</td>\n",
       "      <td>CROPYIELD</td>\n",
       "      <td>SOYBEAN</td>\n",
       "      <td>THND_HA</td>\n",
       "      <td>A</td>\n",
       "      <td>2022</td>\n",
       "      <td>37069.21485</td>\n",
       "      <td>NaN</td>\n",
       "    </tr>\n",
       "    <tr>\n",
       "      <th>20563</th>\n",
       "      <td>20563</td>\n",
       "      <td>OECD</td>\n",
       "      <td>CROPYIELD</td>\n",
       "      <td>SOYBEAN</td>\n",
       "      <td>THND_HA</td>\n",
       "      <td>A</td>\n",
       "      <td>2023</td>\n",
       "      <td>37143.45975</td>\n",
       "      <td>NaN</td>\n",
       "    </tr>\n",
       "    <tr>\n",
       "      <th>20564</th>\n",
       "      <td>20564</td>\n",
       "      <td>OECD</td>\n",
       "      <td>CROPYIELD</td>\n",
       "      <td>SOYBEAN</td>\n",
       "      <td>THND_HA</td>\n",
       "      <td>A</td>\n",
       "      <td>2024</td>\n",
       "      <td>37013.65190</td>\n",
       "      <td>NaN</td>\n",
       "    </tr>\n",
       "    <tr>\n",
       "      <th>20565</th>\n",
       "      <td>20565</td>\n",
       "      <td>OECD</td>\n",
       "      <td>CROPYIELD</td>\n",
       "      <td>SOYBEAN</td>\n",
       "      <td>THND_HA</td>\n",
       "      <td>A</td>\n",
       "      <td>2025</td>\n",
       "      <td>37041.40158</td>\n",
       "      <td>NaN</td>\n",
       "    </tr>\n",
       "  </tbody>\n",
       "</table>\n",
       "</div>"
      ],
      "text/plain": [
       "       index LOCATION  INDICATOR  SUBJECT  MEASURE FREQUENCY  TIME  \\\n",
       "20561  20561     OECD  CROPYIELD  SOYBEAN  THND_HA         A  2021   \n",
       "20562  20562     OECD  CROPYIELD  SOYBEAN  THND_HA         A  2022   \n",
       "20563  20563     OECD  CROPYIELD  SOYBEAN  THND_HA         A  2023   \n",
       "20564  20564     OECD  CROPYIELD  SOYBEAN  THND_HA         A  2024   \n",
       "20565  20565     OECD  CROPYIELD  SOYBEAN  THND_HA         A  2025   \n",
       "\n",
       "             Value  Flag Codes  \n",
       "20561  37010.20883         NaN  \n",
       "20562  37069.21485         NaN  \n",
       "20563  37143.45975         NaN  \n",
       "20564  37013.65190         NaN  \n",
       "20565  37041.40158         NaN  "
      ]
     },
     "execution_count": 74,
     "metadata": {},
     "output_type": "execute_result"
    }
   ],
   "source": [
    "data.tail()"
   ]
  },
  {
   "cell_type": "code",
   "execution_count": 75,
   "id": "d68f603b",
   "metadata": {},
   "outputs": [
    {
     "data": {
      "text/plain": [
       "Index(['index', 'LOCATION', 'INDICATOR', 'SUBJECT', 'MEASURE', 'FREQUENCY',\n",
       "       'TIME', 'Value', 'Flag Codes'],\n",
       "      dtype='object')"
      ]
     },
     "execution_count": 75,
     "metadata": {},
     "output_type": "execute_result"
    }
   ],
   "source": [
    "data.columns"
   ]
  },
  {
   "cell_type": "code",
   "execution_count": 76,
   "id": "7b902022",
   "metadata": {},
   "outputs": [
    {
     "data": {
      "text/html": [
       "<div>\n",
       "<style scoped>\n",
       "    .dataframe tbody tr th:only-of-type {\n",
       "        vertical-align: middle;\n",
       "    }\n",
       "\n",
       "    .dataframe tbody tr th {\n",
       "        vertical-align: top;\n",
       "    }\n",
       "\n",
       "    .dataframe thead th {\n",
       "        text-align: right;\n",
       "    }\n",
       "</style>\n",
       "<table border=\"1\" class=\"dataframe\">\n",
       "  <thead>\n",
       "    <tr style=\"text-align: right;\">\n",
       "      <th></th>\n",
       "      <th>index</th>\n",
       "      <th>TIME</th>\n",
       "      <th>Value</th>\n",
       "      <th>Flag Codes</th>\n",
       "    </tr>\n",
       "  </thead>\n",
       "  <tbody>\n",
       "    <tr>\n",
       "      <th>count</th>\n",
       "      <td>20566.000000</td>\n",
       "      <td>20566.000000</td>\n",
       "      <td>2.056600e+04</td>\n",
       "      <td>0.0</td>\n",
       "    </tr>\n",
       "    <tr>\n",
       "      <th>mean</th>\n",
       "      <td>10282.500000</td>\n",
       "      <td>2007.591170</td>\n",
       "      <td>1.249281e+04</td>\n",
       "      <td>NaN</td>\n",
       "    </tr>\n",
       "    <tr>\n",
       "      <th>std</th>\n",
       "      <td>5937.037154</td>\n",
       "      <td>10.369489</td>\n",
       "      <td>5.960529e+04</td>\n",
       "      <td>NaN</td>\n",
       "    </tr>\n",
       "    <tr>\n",
       "      <th>min</th>\n",
       "      <td>0.000000</td>\n",
       "      <td>1970.000000</td>\n",
       "      <td>0.000000e+00</td>\n",
       "      <td>NaN</td>\n",
       "    </tr>\n",
       "    <tr>\n",
       "      <th>25%</th>\n",
       "      <td>5141.250000</td>\n",
       "      <td>1999.000000</td>\n",
       "      <td>1.961877e+00</td>\n",
       "      <td>NaN</td>\n",
       "    </tr>\n",
       "    <tr>\n",
       "      <th>50%</th>\n",
       "      <td>10282.500000</td>\n",
       "      <td>2008.000000</td>\n",
       "      <td>2.560970e+01</td>\n",
       "      <td>NaN</td>\n",
       "    </tr>\n",
       "    <tr>\n",
       "      <th>75%</th>\n",
       "      <td>15423.750000</td>\n",
       "      <td>2017.000000</td>\n",
       "      <td>1.563000e+03</td>\n",
       "      <td>NaN</td>\n",
       "    </tr>\n",
       "    <tr>\n",
       "      <th>max</th>\n",
       "      <td>20565.000000</td>\n",
       "      <td>2025.000000</td>\n",
       "      <td>1.146044e+06</td>\n",
       "      <td>NaN</td>\n",
       "    </tr>\n",
       "  </tbody>\n",
       "</table>\n",
       "</div>"
      ],
      "text/plain": [
       "              index          TIME         Value  Flag Codes\n",
       "count  20566.000000  20566.000000  2.056600e+04         0.0\n",
       "mean   10282.500000   2007.591170  1.249281e+04         NaN\n",
       "std     5937.037154     10.369489  5.960529e+04         NaN\n",
       "min        0.000000   1970.000000  0.000000e+00         NaN\n",
       "25%     5141.250000   1999.000000  1.961877e+00         NaN\n",
       "50%    10282.500000   2008.000000  2.560970e+01         NaN\n",
       "75%    15423.750000   2017.000000  1.563000e+03         NaN\n",
       "max    20565.000000   2025.000000  1.146044e+06         NaN"
      ]
     },
     "execution_count": 76,
     "metadata": {},
     "output_type": "execute_result"
    }
   ],
   "source": [
    "data.describe()"
   ]
  },
  {
   "cell_type": "code",
   "execution_count": 77,
   "id": "13b7ce8f",
   "metadata": {},
   "outputs": [
    {
     "data": {
      "text/plain": [
       "index             0\n",
       "LOCATION          0\n",
       "INDICATOR         0\n",
       "SUBJECT           0\n",
       "MEASURE           0\n",
       "FREQUENCY         0\n",
       "TIME              0\n",
       "Value             0\n",
       "Flag Codes    20566\n",
       "dtype: int64"
      ]
     },
     "execution_count": 77,
     "metadata": {},
     "output_type": "execute_result"
    }
   ],
   "source": [
    "data.isnull().sum()"
   ]
  },
  {
   "cell_type": "code",
   "execution_count": 78,
   "id": "eb4229dc",
   "metadata": {},
   "outputs": [],
   "source": [
    "#cleaning"
   ]
  },
  {
   "cell_type": "code",
   "execution_count": 79,
   "id": "980839c9",
   "metadata": {},
   "outputs": [
    {
     "data": {
      "text/html": [
       "<div>\n",
       "<style scoped>\n",
       "    .dataframe tbody tr th:only-of-type {\n",
       "        vertical-align: middle;\n",
       "    }\n",
       "\n",
       "    .dataframe tbody tr th {\n",
       "        vertical-align: top;\n",
       "    }\n",
       "\n",
       "    .dataframe thead th {\n",
       "        text-align: right;\n",
       "    }\n",
       "</style>\n",
       "<table border=\"1\" class=\"dataframe\">\n",
       "  <thead>\n",
       "    <tr style=\"text-align: right;\">\n",
       "      <th></th>\n",
       "      <th>index</th>\n",
       "      <th>LOCATION</th>\n",
       "      <th>INDICATOR</th>\n",
       "      <th>SUBJECT</th>\n",
       "      <th>MEASURE</th>\n",
       "      <th>FREQUENCY</th>\n",
       "      <th>TIME</th>\n",
       "      <th>Value</th>\n",
       "    </tr>\n",
       "  </thead>\n",
       "  <tbody>\n",
       "    <tr>\n",
       "      <th>0</th>\n",
       "      <td>0</td>\n",
       "      <td>AUS</td>\n",
       "      <td>CROPYIELD</td>\n",
       "      <td>RICE</td>\n",
       "      <td>TONNE_HA</td>\n",
       "      <td>A</td>\n",
       "      <td>1990</td>\n",
       "      <td>8.314607</td>\n",
       "    </tr>\n",
       "    <tr>\n",
       "      <th>1</th>\n",
       "      <td>1</td>\n",
       "      <td>AUS</td>\n",
       "      <td>CROPYIELD</td>\n",
       "      <td>RICE</td>\n",
       "      <td>TONNE_HA</td>\n",
       "      <td>A</td>\n",
       "      <td>1991</td>\n",
       "      <td>8.394737</td>\n",
       "    </tr>\n",
       "    <tr>\n",
       "      <th>2</th>\n",
       "      <td>2</td>\n",
       "      <td>AUS</td>\n",
       "      <td>CROPYIELD</td>\n",
       "      <td>RICE</td>\n",
       "      <td>TONNE_HA</td>\n",
       "      <td>A</td>\n",
       "      <td>1992</td>\n",
       "      <td>8.094340</td>\n",
       "    </tr>\n",
       "    <tr>\n",
       "      <th>3</th>\n",
       "      <td>3</td>\n",
       "      <td>AUS</td>\n",
       "      <td>CROPYIELD</td>\n",
       "      <td>RICE</td>\n",
       "      <td>TONNE_HA</td>\n",
       "      <td>A</td>\n",
       "      <td>1993</td>\n",
       "      <td>8.336000</td>\n",
       "    </tr>\n",
       "    <tr>\n",
       "      <th>4</th>\n",
       "      <td>4</td>\n",
       "      <td>AUS</td>\n",
       "      <td>CROPYIELD</td>\n",
       "      <td>RICE</td>\n",
       "      <td>TONNE_HA</td>\n",
       "      <td>A</td>\n",
       "      <td>1994</td>\n",
       "      <td>8.537815</td>\n",
       "    </tr>\n",
       "    <tr>\n",
       "      <th>...</th>\n",
       "      <td>...</td>\n",
       "      <td>...</td>\n",
       "      <td>...</td>\n",
       "      <td>...</td>\n",
       "      <td>...</td>\n",
       "      <td>...</td>\n",
       "      <td>...</td>\n",
       "      <td>...</td>\n",
       "    </tr>\n",
       "    <tr>\n",
       "      <th>20561</th>\n",
       "      <td>20561</td>\n",
       "      <td>OECD</td>\n",
       "      <td>CROPYIELD</td>\n",
       "      <td>SOYBEAN</td>\n",
       "      <td>THND_HA</td>\n",
       "      <td>A</td>\n",
       "      <td>2021</td>\n",
       "      <td>37010.208830</td>\n",
       "    </tr>\n",
       "    <tr>\n",
       "      <th>20562</th>\n",
       "      <td>20562</td>\n",
       "      <td>OECD</td>\n",
       "      <td>CROPYIELD</td>\n",
       "      <td>SOYBEAN</td>\n",
       "      <td>THND_HA</td>\n",
       "      <td>A</td>\n",
       "      <td>2022</td>\n",
       "      <td>37069.214850</td>\n",
       "    </tr>\n",
       "    <tr>\n",
       "      <th>20563</th>\n",
       "      <td>20563</td>\n",
       "      <td>OECD</td>\n",
       "      <td>CROPYIELD</td>\n",
       "      <td>SOYBEAN</td>\n",
       "      <td>THND_HA</td>\n",
       "      <td>A</td>\n",
       "      <td>2023</td>\n",
       "      <td>37143.459750</td>\n",
       "    </tr>\n",
       "    <tr>\n",
       "      <th>20564</th>\n",
       "      <td>20564</td>\n",
       "      <td>OECD</td>\n",
       "      <td>CROPYIELD</td>\n",
       "      <td>SOYBEAN</td>\n",
       "      <td>THND_HA</td>\n",
       "      <td>A</td>\n",
       "      <td>2024</td>\n",
       "      <td>37013.651900</td>\n",
       "    </tr>\n",
       "    <tr>\n",
       "      <th>20565</th>\n",
       "      <td>20565</td>\n",
       "      <td>OECD</td>\n",
       "      <td>CROPYIELD</td>\n",
       "      <td>SOYBEAN</td>\n",
       "      <td>THND_HA</td>\n",
       "      <td>A</td>\n",
       "      <td>2025</td>\n",
       "      <td>37041.401580</td>\n",
       "    </tr>\n",
       "  </tbody>\n",
       "</table>\n",
       "<p>20566 rows × 8 columns</p>\n",
       "</div>"
      ],
      "text/plain": [
       "       index LOCATION  INDICATOR  SUBJECT   MEASURE FREQUENCY  TIME  \\\n",
       "0          0      AUS  CROPYIELD     RICE  TONNE_HA         A  1990   \n",
       "1          1      AUS  CROPYIELD     RICE  TONNE_HA         A  1991   \n",
       "2          2      AUS  CROPYIELD     RICE  TONNE_HA         A  1992   \n",
       "3          3      AUS  CROPYIELD     RICE  TONNE_HA         A  1993   \n",
       "4          4      AUS  CROPYIELD     RICE  TONNE_HA         A  1994   \n",
       "...      ...      ...        ...      ...       ...       ...   ...   \n",
       "20561  20561     OECD  CROPYIELD  SOYBEAN   THND_HA         A  2021   \n",
       "20562  20562     OECD  CROPYIELD  SOYBEAN   THND_HA         A  2022   \n",
       "20563  20563     OECD  CROPYIELD  SOYBEAN   THND_HA         A  2023   \n",
       "20564  20564     OECD  CROPYIELD  SOYBEAN   THND_HA         A  2024   \n",
       "20565  20565     OECD  CROPYIELD  SOYBEAN   THND_HA         A  2025   \n",
       "\n",
       "              Value  \n",
       "0          8.314607  \n",
       "1          8.394737  \n",
       "2          8.094340  \n",
       "3          8.336000  \n",
       "4          8.537815  \n",
       "...             ...  \n",
       "20561  37010.208830  \n",
       "20562  37069.214850  \n",
       "20563  37143.459750  \n",
       "20564  37013.651900  \n",
       "20565  37041.401580  \n",
       "\n",
       "[20566 rows x 8 columns]"
      ]
     },
     "execution_count": 79,
     "metadata": {},
     "output_type": "execute_result"
    }
   ],
   "source": [
    "data = data.drop('Flag Codes', axis=1)\n",
    "data"
   ]
  },
  {
   "cell_type": "code",
   "execution_count": 80,
   "id": "11323ce0",
   "metadata": {},
   "outputs": [],
   "source": [
    "#visualization"
   ]
  },
  {
   "cell_type": "code",
   "execution_count": 81,
   "id": "70d7ff89",
   "metadata": {},
   "outputs": [
    {
     "data": {
      "text/plain": [
       "<seaborn.axisgrid.FacetGrid at 0x145bfea7220>"
      ]
     },
     "execution_count": 81,
     "metadata": {},
     "output_type": "execute_result"
    },
    {
     "data": {
      "image/png": "[encoded data removed]",
      "text/plain": [
       "<Figure size 360x360 with 1 Axes>"
      ]
     },
     "metadata": {
      "needs_background": "light"
     },
     "output_type": "display_data"
    }
   ],
   "source": [
    "#how crop yield evolved with time\n",
    "sns.relplot(x='TIME', y='SUBJECT', data=data)"
   ]
  },
  {
   "cell_type": "code",
   "execution_count": 82,
   "id": "56589b92",
   "metadata": {},
   "outputs": [
    {
     "data": {
      "text/plain": [
       "<seaborn.axisgrid.FacetGrid at 0x145bbade0a0>"
      ]
     },
     "execution_count": 82,
     "metadata": {},
     "output_type": "execute_result"
    },
    {
     "data": {
      "image/png": "[encoded data removed]",
      "text/plain": [
       "<Figure size 360x360 with 1 Axes>"
      ]
     },
     "metadata": {
      "needs_background": "light"
     },
     "output_type": "display_data"
    }
   ],
   "source": [
    "#crop againts value \n",
    "sns.relplot(x='Value', y='SUBJECT', data=data)"
   ]
  },
  {
   "cell_type": "code",
   "execution_count": 83,
   "id": "9e2a179d",
   "metadata": {},
   "outputs": [
    {
     "data": {
      "text/plain": [
       "<seaborn.axisgrid.FacetGrid at 0x145bf9c8550>"
      ]
     },
     "execution_count": 83,
     "metadata": {},
     "output_type": "execute_result"
    },
    {
     "data": {
      "image/png": "[encoded data removed]",
      "text/plain": [
       "<Figure size 412x360 with 1 Axes>"
      ]
     },
     "metadata": {
      "needs_background": "light"
     },
     "output_type": "display_data"
    }
   ],
   "source": [
    "#crop value evolution over time  \n",
    "sns.relplot(x='TIME', y='SUBJECT', hue='Value',data=data)"
   ]
  },
  {
   "cell_type": "code",
   "execution_count": 84,
   "id": "786fae20",
   "metadata": {},
   "outputs": [
    {
     "data": {
      "text/html": [
       "<div>\n",
       "<style scoped>\n",
       "    .dataframe tbody tr th:only-of-type {\n",
       "        vertical-align: middle;\n",
       "    }\n",
       "\n",
       "    .dataframe tbody tr th {\n",
       "        vertical-align: top;\n",
       "    }\n",
       "\n",
       "    .dataframe thead th {\n",
       "        text-align: right;\n",
       "    }\n",
       "</style>\n",
       "<table border=\"1\" class=\"dataframe\">\n",
       "  <thead>\n",
       "    <tr style=\"text-align: right;\">\n",
       "      <th></th>\n",
       "      <th>index</th>\n",
       "      <th>LOCATION</th>\n",
       "      <th>INDICATOR</th>\n",
       "      <th>SUBJECT</th>\n",
       "      <th>MEASURE</th>\n",
       "      <th>FREQUENCY</th>\n",
       "      <th>TIME</th>\n",
       "      <th>Value</th>\n",
       "    </tr>\n",
       "  </thead>\n",
       "  <tbody>\n",
       "    <tr>\n",
       "      <th>0</th>\n",
       "      <td>0</td>\n",
       "      <td>AUS</td>\n",
       "      <td>CROPYIELD</td>\n",
       "      <td>RICE</td>\n",
       "      <td>TONNE_HA</td>\n",
       "      <td>A</td>\n",
       "      <td>1990</td>\n",
       "      <td>8.314607</td>\n",
       "    </tr>\n",
       "    <tr>\n",
       "      <th>1</th>\n",
       "      <td>1</td>\n",
       "      <td>AUS</td>\n",
       "      <td>CROPYIELD</td>\n",
       "      <td>RICE</td>\n",
       "      <td>TONNE_HA</td>\n",
       "      <td>A</td>\n",
       "      <td>1991</td>\n",
       "      <td>8.394737</td>\n",
       "    </tr>\n",
       "    <tr>\n",
       "      <th>2</th>\n",
       "      <td>2</td>\n",
       "      <td>AUS</td>\n",
       "      <td>CROPYIELD</td>\n",
       "      <td>RICE</td>\n",
       "      <td>TONNE_HA</td>\n",
       "      <td>A</td>\n",
       "      <td>1992</td>\n",
       "      <td>8.094340</td>\n",
       "    </tr>\n",
       "    <tr>\n",
       "      <th>3</th>\n",
       "      <td>3</td>\n",
       "      <td>AUS</td>\n",
       "      <td>CROPYIELD</td>\n",
       "      <td>RICE</td>\n",
       "      <td>TONNE_HA</td>\n",
       "      <td>A</td>\n",
       "      <td>1993</td>\n",
       "      <td>8.336000</td>\n",
       "    </tr>\n",
       "    <tr>\n",
       "      <th>4</th>\n",
       "      <td>4</td>\n",
       "      <td>AUS</td>\n",
       "      <td>CROPYIELD</td>\n",
       "      <td>RICE</td>\n",
       "      <td>TONNE_HA</td>\n",
       "      <td>A</td>\n",
       "      <td>1994</td>\n",
       "      <td>8.537815</td>\n",
       "    </tr>\n",
       "  </tbody>\n",
       "</table>\n",
       "</div>"
      ],
      "text/plain": [
       "   index LOCATION  INDICATOR SUBJECT   MEASURE FREQUENCY  TIME     Value\n",
       "0      0      AUS  CROPYIELD    RICE  TONNE_HA         A  1990  8.314607\n",
       "1      1      AUS  CROPYIELD    RICE  TONNE_HA         A  1991  8.394737\n",
       "2      2      AUS  CROPYIELD    RICE  TONNE_HA         A  1992  8.094340\n",
       "3      3      AUS  CROPYIELD    RICE  TONNE_HA         A  1993  8.336000\n",
       "4      4      AUS  CROPYIELD    RICE  TONNE_HA         A  1994  8.537815"
      ]
     },
     "execution_count": 84,
     "metadata": {},
     "output_type": "execute_result"
    }
   ],
   "source": [
    "#model\n",
    "data.head()"
   ]
  },
  {
   "cell_type": "code",
   "execution_count": 85,
   "id": "3ef3eda1",
   "metadata": {},
   "outputs": [],
   "source": [
    "from sklearn.linear_model import LinearRegression\n",
    "from sklearn.model_selection import train_test_split"
   ]
  },
  {
   "cell_type": "code",
   "execution_count": 87,
   "id": "a1399ffa",
   "metadata": {},
   "outputs": [],
   "source": [
    "from sklearn.preprocessing import LabelEncoder\n",
    "le = LabelEncoder()\n",
    "data['SUBJECT'] = le.fit_transform(data['SUBJECT'])\n"
   ]
  },
  {
   "cell_type": "code",
   "execution_count": 88,
   "id": "674b246b",
   "metadata": {},
   "outputs": [],
   "source": [
    "data = pd.get_dummies(data, columns=['SUBJECT'])\n"
   ]
  },
  {
   "cell_type": "code",
   "execution_count": 89,
   "id": "435dfeed",
   "metadata": {},
   "outputs": [],
   "source": [
    "train = data.drop(['Value','index','INDICATOR','MEASURE','FREQUENCY','LOCATION'], axis=1)\n",
    "test = data['Value']"
   ]
  },
  {
   "cell_type": "code",
   "execution_count": 90,
   "id": "6b67c606",
   "metadata": {},
   "outputs": [],
   "source": [
    "x_train, x_test, y_train, y_test = train_test_split(train, test, test_size=0.3, random_state=2)"
   ]
  },
  {
   "cell_type": "code",
   "execution_count": 91,
   "id": "6a7c94e9",
   "metadata": {},
   "outputs": [],
   "source": [
    "regr = LinearRegression()"
   ]
  },
  {
   "cell_type": "code",
   "execution_count": 92,
   "id": "960e7ce5",
   "metadata": {},
   "outputs": [
    {
     "data": {
      "text/plain": [
       "LinearRegression()"
      ]
     },
     "execution_count": 92,
     "metadata": {},
     "output_type": "execute_result"
    }
   ],
   "source": [
    "regr.fit(x_train, y_train)"
   ]
  },
  {
   "cell_type": "code",
   "execution_count": 93,
   "id": "dfe3cad2",
   "metadata": {},
   "outputs": [],
   "source": [
    "pred = regr.predict(x_test)"
   ]
  },
  {
   "cell_type": "code",
   "execution_count": 94,
   "id": "8904a19c",
   "metadata": {},
   "outputs": [
    {
     "data": {
      "text/plain": [
       "array([ 4601.84343823, 21088.00589885,  3218.2814347 , ...,\n",
       "        7340.71271159,  8060.74844707, 11806.35397929])"
      ]
     },
     "execution_count": 94,
     "metadata": {},
     "output_type": "execute_result"
    }
   ],
   "source": [
    "pred"
   ]
  },
  {
   "cell_type": "code",
   "execution_count": 95,
   "id": "47425b34",
   "metadata": {},
   "outputs": [
    {
     "data": {
      "text/plain": [
       "0.008160440389776591"
      ]
     },
     "execution_count": 95,
     "metadata": {},
     "output_type": "execute_result"
    }
   ],
   "source": [
    "#accuracy\n",
    "regr.score(x_test, y_test)"
   ]
  },
  {
   "cell_type": "code",
   "execution_count": 96,
   "id": "522e149a",
   "metadata": {},
   "outputs": [],
   "source": [
    "#my 1st try and accuracy too bad,will do better in the next."
   ]
  }
 ],
 "metadata": {
  "kernelspec": {
   "display_name": "Python 3 (ipykernel)",
   "language": "python",
   "name": "python3"
  },
  "language_info": {
   "codemirror_mode": {
    "name": "ipython",
    "version": 3
   },
   "file_extension": ".py",
   "mimetype": "text/x-python",
   "name": "python",
   "nbconvert_exporter": "python",
   "pygments_lexer": "ipython3",
   "version": "3.9.12"
  }
 },
 "nbformat": 4,
 "nbformat_minor": 5
}
